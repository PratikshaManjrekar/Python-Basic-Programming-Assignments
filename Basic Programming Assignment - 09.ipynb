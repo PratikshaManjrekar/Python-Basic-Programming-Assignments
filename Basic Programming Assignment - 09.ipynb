{
 "cells": [
  {
   "cell_type": "markdown",
   "id": "d205a3ef",
   "metadata": {},
   "source": [
    "1. Write a Python program to check if the given number is a Disarium Number?"
   ]
  },
  {
   "cell_type": "code",
   "execution_count": 1,
   "id": "767de0fc",
   "metadata": {},
   "outputs": [
    {
     "name": "stdout",
     "output_type": "stream",
     "text": [
      "Enter a number: 135\n",
      "Sum of the digits:  135\n",
      "135 is a disarium number\n"
     ]
    }
   ],
   "source": [
    "'''\n",
    "If the sum of the digits of a given number raised to the power of its respective positions equals the actual number, \n",
    "it is a disarium number.\n",
    "e.g. 135=1^1 + 3^2 + 5^3 = 135\n",
    "'''\n",
    "\n",
    "n=int(input(\"Enter a number: \"))\n",
    "l=len(str(n))\n",
    "temp=n\n",
    "sum=0\n",
    "rem=0\n",
    "while temp>0:\n",
    "    rem=temp%10\n",
    "    sum=sum+int(rem**l)\n",
    "    temp=temp//10\n",
    "    l=l-1\n",
    "    \n",
    "print(\"Sum of the digits: \",sum)\n",
    "if sum==n:\n",
    "    print(n,\"is a disarium number\")\n",
    "else:\n",
    "    print(n,\"is not a disarium number\")"
   ]
  },
  {
   "cell_type": "code",
   "execution_count": 2,
   "id": "b5f3e971",
   "metadata": {},
   "outputs": [
    {
     "name": "stdout",
     "output_type": "stream",
     "text": [
      "Enter a number: 123\n",
      "Sum of the digits:  32\n",
      "123 is not a disarium number\n"
     ]
    }
   ],
   "source": [
    "n=int(input(\"Enter a number: \"))\n",
    "l=len(str(n))\n",
    "temp=n\n",
    "sum=0\n",
    "rem=0\n",
    "while temp>0:\n",
    "    rem=temp%10\n",
    "    sum=sum+int(rem**l)\n",
    "    temp=temp//10\n",
    "    l=l-1\n",
    "    \n",
    "print(\"Sum of the digits: \",sum)\n",
    "if sum==n:\n",
    "    print(n,\"is a disarium number\")\n",
    "else:\n",
    "    print(n,\"is not a disarium number\")"
   ]
  },
  {
   "cell_type": "markdown",
   "id": "cedfb7ca",
   "metadata": {},
   "source": [
    "2. Write a Python program to print all disarium numbers between 1 to 100?"
   ]
  },
  {
   "cell_type": "code",
   "execution_count": 17,
   "id": "a5b922b4",
   "metadata": {},
   "outputs": [
    {
     "name": "stdout",
     "output_type": "stream",
     "text": [
      "Disarium numbers between 1 and 100 are:\n",
      "1\n",
      "2\n",
      "3\n",
      "4\n",
      "5\n",
      "6\n",
      "7\n",
      "8\n",
      "9\n",
      "89\n"
     ]
    }
   ],
   "source": [
    "def calculateLength(n):    \n",
    "    length = 0\n",
    "    while(n != 0):    \n",
    "        length = length + 1   \n",
    "        n = n//10    \n",
    "    return length    \n",
    "     \n",
    "    \n",
    "def sumOfDigits(num):    \n",
    "    rem = sum = 0\n",
    "    len = calculateLength(num)    \n",
    "        \n",
    "    while(num > 0):    \n",
    "        rem = num%10\n",
    "        sum = sum + (rem**len)    \n",
    "        num = num//10    \n",
    "        len = len - 1    \n",
    "    return sum    \n",
    "result = 0   \n",
    "     \n",
    "   \n",
    "print(\"Disarium numbers between 1 and 100 are:\")    \n",
    "for i in range(1, 101):    \n",
    "    result = sumOfDigits(i)           \n",
    "    if(result == i):    \n",
    "        print(i)"
   ]
  },
  {
   "cell_type": "markdown",
   "id": "071ee754",
   "metadata": {},
   "source": [
    "4. Write a Python program to print all happy numbers between 1 and 100?"
   ]
  },
  {
   "cell_type": "code",
   "execution_count": 19,
   "id": "41787808",
   "metadata": {},
   "outputs": [
    {
     "name": "stdout",
     "output_type": "stream",
     "text": [
      "Happy numbers between 1 to 100 are:\n",
      "1\n",
      "7\n",
      "10\n",
      "13\n",
      "19\n",
      "23\n",
      "28\n",
      "31\n",
      "32\n",
      "44\n",
      "49\n",
      "68\n",
      "70\n",
      "79\n",
      "82\n",
      "86\n",
      "91\n",
      "94\n",
      "97\n",
      "100\n"
     ]
    }
   ],
   "source": [
    "'''\n",
    "A happy number is the one that ends up as 1, when it is replaced by the sum of square of every digit in the number.\n",
    "'''\n",
    "\n",
    "def ishappy(n):\n",
    "    sum=0\n",
    "    rem=0\n",
    "    \n",
    "    while(n>0):\n",
    "        rem=n%10\n",
    "        sum=sum+(rem*rem)\n",
    "        n=n//10\n",
    "    return sum\n",
    "\n",
    "print(\"Happy numbers between 1 to 100 are:\")\n",
    "for i in range(1,101):\n",
    "    result=i\n",
    "    while(result!=1 and result!=4):\n",
    "        result=ishappy(result)\n",
    "        \n",
    "    if result==1:\n",
    "        print(i)"
   ]
  },
  {
   "cell_type": "markdown",
   "id": "a7954098",
   "metadata": {},
   "source": [
    "5. Write a Python program to determine whether the given number is a Harshad Number?"
   ]
  },
  {
   "cell_type": "code",
   "execution_count": 21,
   "id": "79221c2e",
   "metadata": {},
   "outputs": [
    {
     "name": "stdout",
     "output_type": "stream",
     "text": [
      "Enter a number: 153\n",
      "153 is a Harshad number\n"
     ]
    }
   ],
   "source": [
    "# Harshad number is the number which is divisible by the sum of its digits\n",
    "\n",
    "n=int(input(\"Enter a number: \"))\n",
    "copy=n\n",
    "sum=0\n",
    "while n:\n",
    "    sum=sum + (n%10)\n",
    "    n//=10\n",
    "\n",
    "if copy%sum==0:\n",
    "    print(copy,\"is a Harshad number\")\n",
    "else:\n",
    "    print(copy,\"is not Harshad number\")"
   ]
  },
  {
   "cell_type": "code",
   "execution_count": 23,
   "id": "fc79afc7",
   "metadata": {},
   "outputs": [
    {
     "name": "stdout",
     "output_type": "stream",
     "text": [
      "Enter a number: 154\n",
      "154 is not Harshad number\n"
     ]
    }
   ],
   "source": [
    "n=int(input(\"Enter a number: \"))\n",
    "copy=n\n",
    "sum=0\n",
    "while n:\n",
    "    sum=sum + (n%10)\n",
    "    n//=10\n",
    "\n",
    "if copy%sum==0:\n",
    "    print(copy,\"is a Harshad number\")\n",
    "else:\n",
    "    print(copy,\"is not Harshad number\")"
   ]
  },
  {
   "cell_type": "markdown",
   "id": "0b1affa2",
   "metadata": {},
   "source": [
    "6. Write a Python program to print all pronic numbers between 1 and 100?"
   ]
  },
  {
   "cell_type": "code",
   "execution_count": 25,
   "id": "6bd73d53",
   "metadata": {},
   "outputs": [
    {
     "name": "stdout",
     "output_type": "stream",
     "text": [
      "Pronic numbers between 1 to 100 are:\n",
      "2\n",
      "6\n",
      "12\n",
      "20\n",
      "30\n",
      "42\n",
      "56\n",
      "72\n",
      "90\n"
     ]
    }
   ],
   "source": [
    "# The pronic number is a product of two consecutive integers of the form: n(n+1)\n",
    "# e.g. 6 = 2(2+1)\n",
    "# e.g. 72 = 8(8+1)\n",
    "\n",
    "def ispronic(n):\n",
    "    flag=False\n",
    "    for i in range(1,n+1):\n",
    "        if (i*(i+1)==n):\n",
    "            flag=True\n",
    "            break\n",
    "    return flag\n",
    "\n",
    "print(\"Pronic numbers between 1 to 100 are:\")\n",
    "for i in range(1,101):\n",
    "    if (ispronic(i)):\n",
    "        print(i)"
   ]
  },
  {
   "cell_type": "code",
   "execution_count": null,
   "id": "0b9d0d20",
   "metadata": {},
   "outputs": [],
   "source": []
  }
 ],
 "metadata": {
  "kernelspec": {
   "display_name": "Python 3 (ipykernel)",
   "language": "python",
   "name": "python3"
  },
  "language_info": {
   "codemirror_mode": {
    "name": "ipython",
    "version": 3
   },
   "file_extension": ".py",
   "mimetype": "text/x-python",
   "name": "python",
   "nbconvert_exporter": "python",
   "pygments_lexer": "ipython3",
   "version": "3.9.12"
  }
 },
 "nbformat": 4,
 "nbformat_minor": 5
}
