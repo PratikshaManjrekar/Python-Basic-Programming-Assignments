{
 "cells": [
  {
   "cell_type": "markdown",
   "id": "d165c25b",
   "metadata": {},
   "source": [
    "1. Write a Python Program to Find LCM?"
   ]
  },
  {
   "cell_type": "code",
   "execution_count": 8,
   "id": "6faedd88",
   "metadata": {},
   "outputs": [
    {
     "name": "stdout",
     "output_type": "stream",
     "text": [
      "LCM of 6 and 24 is: 24\n"
     ]
    }
   ],
   "source": [
    "x=6\n",
    "y=24\n",
    "if x>y:\n",
    "    greater=x\n",
    "else:\n",
    "    greater=y\n",
    "    \n",
    "while (True):\n",
    "    if((greater % x == 0) and (greater % y == 0)):\n",
    "        print(\"LCM of\",x,\"and\",y,\"is:\",greater)\n",
    "        break\n",
    "    greater=greater+1"
   ]
  },
  {
   "cell_type": "markdown",
   "id": "7dfc6ad9",
   "metadata": {},
   "source": [
    "2. Write a Python Program to Find HCF?"
   ]
  },
  {
   "cell_type": "code",
   "execution_count": 9,
   "id": "81046374",
   "metadata": {},
   "outputs": [
    {
     "name": "stdout",
     "output_type": "stream",
     "text": [
      "HCF of 100 and 500 is: 100\n"
     ]
    }
   ],
   "source": [
    "x = 500\n",
    "y = 100\n",
    "if x > y:\n",
    "    x, y = y, x\n",
    "for i in range(1,x+1):\n",
    "    if (x%i == 0 and y%i == 0):\n",
    "        hcf = i\n",
    "\n",
    "print(\"HCF of\", x, \"and\", y, \"is:\", hcf)"
   ]
  },
  {
   "cell_type": "markdown",
   "id": "0ec08c33",
   "metadata": {},
   "source": [
    "3. Write a Python Program to Convert Decimal to Binary, Octal and Hexadecimal?"
   ]
  },
  {
   "cell_type": "code",
   "execution_count": 11,
   "id": "8d13bda7",
   "metadata": {},
   "outputs": [
    {
     "name": "stdout",
     "output_type": "stream",
     "text": [
      "Enter a number: 259\n",
      "The decimal value of 259 is:\n",
      "0b100000011 in binary\n",
      "0o403 in octal\n",
      "0x103 in hexadecimal\n"
     ]
    }
   ],
   "source": [
    "n=int(input(\"Enter a number: \"))\n",
    "print(\"The decimal value of\",n,\"is:\")\n",
    "print(bin(n),\"in binary\")\n",
    "print(oct(n),\"in octal\")\n",
    "print(hex(n),\"in hexadecimal\")"
   ]
  },
  {
   "cell_type": "markdown",
   "id": "73e71428",
   "metadata": {},
   "source": [
    "4. Write a Python Program To Find ASCII value of a character?"
   ]
  },
  {
   "cell_type": "code",
   "execution_count": 12,
   "id": "69b33020",
   "metadata": {},
   "outputs": [
    {
     "name": "stdout",
     "output_type": "stream",
     "text": [
      "The ASCII value of p is: 112\n"
     ]
    }
   ],
   "source": [
    "x=\"p\"\n",
    "print(\"The ASCII value of\",x,\"is:\",ord(x))"
   ]
  },
  {
   "cell_type": "markdown",
   "id": "12b8dc76",
   "metadata": {},
   "source": [
    "5. Write a Python Program to Make a Simple Calculator with 4 basic mathematical operations?"
   ]
  },
  {
   "cell_type": "code",
   "execution_count": 14,
   "id": "be1b9399",
   "metadata": {},
   "outputs": [
    {
     "name": "stdout",
     "output_type": "stream",
     "text": [
      "Select the operation that you want to perform :\n",
      "1)Addition\n",
      "2)Subtraction\n",
      "3)Multiplication\n",
      "4)Division\n",
      "Enter choice (1/2/3/4) : 2\n",
      "Enter first number: 20\n",
      "Enter second number: 3\n",
      "20.0 - 3.0 = 17.0\n",
      "Do you want to perform another operation? (Yes/No): Yes\n",
      "Enter choice (1/2/3/4) : 4\n",
      "Enter first number: 30\n",
      "Enter second number: 4\n",
      "30.0 / 4.0 = 7.5\n",
      "Do you want to perform another operation? (Yes/No): Yes\n",
      "Enter choice (1/2/3/4) : 3\n",
      "Enter first number: 3\n",
      "Enter second number: 3\n",
      "3.0 * 3.0 = 9.0\n",
      "Do you want to perform another operation? (Yes/No): No\n"
     ]
    }
   ],
   "source": [
    "'''def add(a,b):\n",
    "    return a+b\n",
    "\n",
    "def sub(a,b):\n",
    "    return a-b\n",
    "\n",
    "def multi(a,b):\n",
    "    return a*b\n",
    "\n",
    "def div(a,b):\n",
    "    print(a/b)\n",
    "    '''\n",
    "print(\"Select the operation that you want to perform :\\n1)Addition\\n2)Subtraction\\n3)Multiplication\\n4)Division\")\n",
    "while(True):\n",
    "    choice=input(\"Enter choice (1/2/3/4) : \")\n",
    "    \n",
    "    if choice in ('1','2','3','4'):\n",
    "        n1=float(input(\"Enter first number: \"))\n",
    "        n2=float(input(\"Enter second number: \"))\n",
    "        \n",
    "        if choice=='1':\n",
    "            print(n1,\"+\",n2,\"=\",n1+n2)\n",
    "            \n",
    "        if choice=='2':\n",
    "            print(n1,\"-\",n2,\"=\",n1-n2)\n",
    "            \n",
    "        if choice=='3':\n",
    "            print(n1,\"*\",n2,\"=\",n1*n2)\n",
    "            \n",
    "        if choice=='4':\n",
    "            print(n1,\"/\",n2,\"=\",n1/n2)\n",
    "            \n",
    "        next_cal=input(\"Do you want to perform another operation? (Yes/No): \")\n",
    "        if next_cal==\"No\":\n",
    "            break\n",
    "    else:\n",
    "        print(\"Invalid input\")"
   ]
  },
  {
   "cell_type": "code",
   "execution_count": null,
   "id": "b0f917ab",
   "metadata": {},
   "outputs": [],
   "source": []
  }
 ],
 "metadata": {
  "kernelspec": {
   "display_name": "Python 3 (ipykernel)",
   "language": "python",
   "name": "python3"
  },
  "language_info": {
   "codemirror_mode": {
    "name": "ipython",
    "version": 3
   },
   "file_extension": ".py",
   "mimetype": "text/x-python",
   "name": "python",
   "nbconvert_exporter": "python",
   "pygments_lexer": "ipython3",
   "version": "3.9.12"
  }
 },
 "nbformat": 4,
 "nbformat_minor": 5
}
