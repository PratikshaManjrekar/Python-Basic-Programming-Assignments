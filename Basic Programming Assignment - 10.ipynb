{
 "cells": [
  {
   "cell_type": "markdown",
   "id": "7adfa693",
   "metadata": {},
   "source": [
    "1. Write a Python program to find sum of elements in list?"
   ]
  },
  {
   "cell_type": "code",
   "execution_count": 11,
   "id": "82f3fb5c",
   "metadata": {},
   "outputs": [
    {
     "name": "stdout",
     "output_type": "stream",
     "text": [
      "Sum of elements in list is:  36\n"
     ]
    }
   ],
   "source": [
    "sum=0\n",
    "lst=[1,2,3,4,5,6,7,8]\n",
    "for i in range(0,len(lst)):\n",
    "    sum=sum + lst[i]\n",
    "print(\"Sum of elements in list is: \",sum)"
   ]
  },
  {
   "cell_type": "markdown",
   "id": "b4a7d27e",
   "metadata": {},
   "source": [
    "2. Write a Python program to Multiply all numbers in the list?"
   ]
  },
  {
   "cell_type": "code",
   "execution_count": 9,
   "id": "ddca7cb5",
   "metadata": {},
   "outputs": [
    {
     "name": "stdout",
     "output_type": "stream",
     "text": [
      "Multiplication of elements in list is:  0\n"
     ]
    }
   ],
   "source": [
    "m=1\n",
    "lst2=[1,2,3,4,5,6]\n",
    "for i in range(0,len(lst2)):\n",
    "    m=m * lst[i]\n",
    "print(\"Multiplication of elements in list is: \",m)"
   ]
  },
  {
   "cell_type": "markdown",
   "id": "317e5217",
   "metadata": {},
   "source": [
    "3. Write a Python program to find smallest number in a list?"
   ]
  },
  {
   "cell_type": "code",
   "execution_count": 12,
   "id": "cefa6a26",
   "metadata": {},
   "outputs": [
    {
     "name": "stdout",
     "output_type": "stream",
     "text": [
      "-1345\n"
     ]
    }
   ],
   "source": [
    "lst3=[-99,0,76,101,-1345]\n",
    "print(min(lst3))"
   ]
  },
  {
   "cell_type": "markdown",
   "id": "f030f132",
   "metadata": {},
   "source": [
    "4. Write a Python program to find largest number in a list?"
   ]
  },
  {
   "cell_type": "code",
   "execution_count": 13,
   "id": "f89ce2d0",
   "metadata": {},
   "outputs": [
    {
     "name": "stdout",
     "output_type": "stream",
     "text": [
      "101\n"
     ]
    }
   ],
   "source": [
    "print(max(lst3))"
   ]
  },
  {
   "cell_type": "markdown",
   "id": "fd8d9a3c",
   "metadata": {},
   "source": [
    "5. Write a Python program to find second largest number in a list"
   ]
  },
  {
   "cell_type": "code",
   "execution_count": 14,
   "id": "0a1d81fe",
   "metadata": {},
   "outputs": [
    {
     "name": "stdout",
     "output_type": "stream",
     "text": [
      "76\n"
     ]
    }
   ],
   "source": [
    "lst4=list(set(lst3))\n",
    "lst4.sort()\n",
    "print(lst4[-2])"
   ]
  },
  {
   "cell_type": "markdown",
   "id": "02ecea7a",
   "metadata": {},
   "source": [
    "6. Write a Python program to find N largest elements from a list?"
   ]
  },
  {
   "cell_type": "code",
   "execution_count": 15,
   "id": "e9462080",
   "metadata": {},
   "outputs": [
    {
     "name": "stdout",
     "output_type": "stream",
     "text": [
      "[653, 987, 2345, 23434, 23435]\n"
     ]
    }
   ],
   "source": [
    "lst5=[2345,23434,987,653,23435,0,-876,-99]\n",
    "n=5           # Finding 5 largest elements from the list\n",
    "lst5.sort()\n",
    "print(lst5[-n:])"
   ]
  },
  {
   "cell_type": "markdown",
   "id": "7ceec71b",
   "metadata": {},
   "source": [
    "7. Write a Python program to print even numbers in a list?"
   ]
  },
  {
   "cell_type": "code",
   "execution_count": 18,
   "id": "ae74638f",
   "metadata": {},
   "outputs": [
    {
     "name": "stdout",
     "output_type": "stream",
     "text": [
      "12\n",
      "34\n",
      "-88\n",
      "100\n",
      "-100\n"
     ]
    }
   ],
   "source": [
    "lst6=[12,34,23,-88,100,33,-100,77,53]\n",
    "for i in lst6:\n",
    "    if i%2==0:\n",
    "        print(i)"
   ]
  },
  {
   "cell_type": "markdown",
   "id": "1f02aae8",
   "metadata": {},
   "source": [
    "8. Write a Python program to print odd numbers in a List?"
   ]
  },
  {
   "cell_type": "code",
   "execution_count": 20,
   "id": "e4f765b6",
   "metadata": {},
   "outputs": [
    {
     "name": "stdout",
     "output_type": "stream",
     "text": [
      "23\n",
      "33\n",
      "77\n",
      "53\n"
     ]
    }
   ],
   "source": [
    "for i in lst6:\n",
    "    if i%2!=0:\n",
    "        print(i)"
   ]
  },
  {
   "cell_type": "markdown",
   "id": "ac39924b",
   "metadata": {},
   "source": [
    "9. Write a Python program to Remove empty List from List?"
   ]
  },
  {
   "cell_type": "code",
   "execution_count": 21,
   "id": "a8456922",
   "metadata": {},
   "outputs": [
    {
     "name": "stdout",
     "output_type": "stream",
     "text": [
      "[12, 23, 45, 56, -98, 980]\n"
     ]
    }
   ],
   "source": [
    "lst7=[12,23,45,[],56,-98,[],980]\n",
    "while [] in lst7:\n",
    "    lst7.remove([])\n",
    "print(lst7)"
   ]
  },
  {
   "cell_type": "markdown",
   "id": "a64668c9",
   "metadata": {},
   "source": [
    "10. Write a Python program to Cloning or Copying a list?"
   ]
  },
  {
   "cell_type": "code",
   "execution_count": 22,
   "id": "70ed6aaa",
   "metadata": {},
   "outputs": [
    {
     "name": "stdout",
     "output_type": "stream",
     "text": [
      "[1, 2, 3, [4, 5], 6, [10, 20]]\n"
     ]
    }
   ],
   "source": [
    "import copy\n",
    "l1=[1,2,3,[4,5],6,[10,20]]\n",
    "l2=copy.copy(l1)\n",
    "print(l2)"
   ]
  },
  {
   "cell_type": "markdown",
   "id": "40602c4d",
   "metadata": {},
   "source": [
    "11. Write a Python program to Count occurrences of an element in a list?"
   ]
  },
  {
   "cell_type": "code",
   "execution_count": 25,
   "id": "a5f669a9",
   "metadata": {},
   "outputs": [
    {
     "name": "stdout",
     "output_type": "stream",
     "text": [
      "3 has occured 5 times in the list\n"
     ]
    }
   ],
   "source": [
    "from collections import Counter\n",
    "l=[1,2,3,2,3,4,1,3,4,2,1,3,3,2,1]\n",
    "n=3\n",
    "c=Counter(l)\n",
    "print(\"{} has occured {} times in the list\".format(n,c[n]))"
   ]
  },
  {
   "cell_type": "code",
   "execution_count": null,
   "id": "676e59e8",
   "metadata": {},
   "outputs": [],
   "source": []
  }
 ],
 "metadata": {
  "kernelspec": {
   "display_name": "Python 3 (ipykernel)",
   "language": "python",
   "name": "python3"
  },
  "language_info": {
   "codemirror_mode": {
    "name": "ipython",
    "version": 3
   },
   "file_extension": ".py",
   "mimetype": "text/x-python",
   "name": "python",
   "nbconvert_exporter": "python",
   "pygments_lexer": "ipython3",
   "version": "3.9.12"
  }
 },
 "nbformat": 4,
 "nbformat_minor": 5
}
