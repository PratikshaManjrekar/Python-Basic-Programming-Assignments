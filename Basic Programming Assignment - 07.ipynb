{
 "cells": [
  {
   "cell_type": "markdown",
   "id": "dbfe05c8",
   "metadata": {},
   "source": [
    "1. Write a Python Program to find sum of array?"
   ]
  },
  {
   "cell_type": "code",
   "execution_count": 1,
   "id": "ee47a1ac",
   "metadata": {},
   "outputs": [
    {
     "name": "stdout",
     "output_type": "stream",
     "text": [
      "Sum of array [10, 20, 30, 40, 55] is: 155\n"
     ]
    }
   ],
   "source": [
    "arr=[10,20,30,40,55]\n",
    "addition=sum(arr)\n",
    "print(\"Sum of array\",arr,\"is:\",addition)"
   ]
  },
  {
   "cell_type": "markdown",
   "id": "57b4adb4",
   "metadata": {},
   "source": [
    "2. Write a Python Program to find largest element in an array?"
   ]
  },
  {
   "cell_type": "code",
   "execution_count": 2,
   "id": "7792bf39",
   "metadata": {},
   "outputs": [
    {
     "name": "stdout",
     "output_type": "stream",
     "text": [
      "Largest element in [10, 20, 30, 40, 55] is: 55\n"
     ]
    }
   ],
   "source": [
    "print(\"Largest element in\",arr,\"is:\",max(arr))"
   ]
  },
  {
   "cell_type": "markdown",
   "id": "3c0c27f2",
   "metadata": {},
   "source": [
    "3. Write a Python Program for array rotation?"
   ]
  },
  {
   "cell_type": "code",
   "execution_count": 3,
   "id": "0d431e08",
   "metadata": {},
   "outputs": [
    {
     "name": "stdout",
     "output_type": "stream",
     "text": [
      "Array after rotation is: [3, 4, 5, 6, 7, 1, 2]\n"
     ]
    }
   ],
   "source": [
    "def rotatearr(a,d):\n",
    "    temp=[]\n",
    "    n=len(a)\n",
    "    for i in range(d,n):\n",
    "        temp.append(a[i])\n",
    "    i=0\n",
    "    for i in range(0,d):\n",
    "        temp.append(a[i])\n",
    "    a=temp.copy()\n",
    "    return a\n",
    "\n",
    "arr=[1,2,3,4,5,6,7]\n",
    "print(\"Array after rotation is:\",end=' ')\n",
    "print(rotatearr(arr,2))"
   ]
  },
  {
   "cell_type": "code",
   "execution_count": 5,
   "id": "672d16b5",
   "metadata": {},
   "outputs": [
    {
     "name": "stdout",
     "output_type": "stream",
     "text": [
      "Rotated list is\n",
      "[3, 4, 5, 6, 7, 1, 2]\n"
     ]
    }
   ],
   "source": [
    "def rotateArray(a,d):\n",
    "    n=len(a)\n",
    "    a[:]=a[d:n]+a[0:d]\n",
    "    return a\n",
    "\n",
    "arr = [1, 2, 3, 4, 5, 6, 7]\n",
    "\n",
    "print(\"Rotated list is\")\n",
    "print(rotateArray(arr,2)) "
   ]
  },
  {
   "cell_type": "markdown",
   "id": "06432804",
   "metadata": {},
   "source": [
    "4. Write a Python Program to Split the array and add the first part to the end?"
   ]
  },
  {
   "cell_type": "code",
   "execution_count": 6,
   "id": "a5eb5aa4",
   "metadata": {},
   "outputs": [
    {
     "name": "stdout",
     "output_type": "stream",
     "text": [
      "5 6 52 36 12 10 "
     ]
    }
   ],
   "source": [
    "def splitArr(a, n, k): \n",
    "    b = a[:k]\n",
    "    return (a[k::]+b[::])\n",
    "          \n",
    "\n",
    "arr = [12, 10, 5, 6, 52, 36]\n",
    "n = len(arr)\n",
    "position = 2\n",
    "arr = splitArr(arr, n, position)\n",
    "for i in range(0, n): \n",
    "    print(arr[i], end = ' ')"
   ]
  },
  {
   "cell_type": "markdown",
   "id": "53ece54d",
   "metadata": {},
   "source": [
    "5. Write a Python Program to check if given array is Monotonic?"
   ]
  },
  {
   "cell_type": "code",
   "execution_count": 7,
   "id": "17bb68c1",
   "metadata": {},
   "outputs": [
    {
     "name": "stdout",
     "output_type": "stream",
     "text": [
      "True\n"
     ]
    }
   ],
   "source": [
    "def ismonotonic(x):\n",
    "    a,b=[], []\n",
    "    a.extend(x)\n",
    "    b.extend(x)\n",
    "    a.sort()\n",
    "    b.sort(reverse=True)\n",
    "    if (a==x or b==x):\n",
    "        return True\n",
    "    return False\n",
    "\n",
    "x=[4,5,6,6]\n",
    "print(ismonotonic(x))"
   ]
  },
  {
   "cell_type": "code",
   "execution_count": 9,
   "id": "26c981ce",
   "metadata": {},
   "outputs": [
    {
     "name": "stdout",
     "output_type": "stream",
     "text": [
      "False\n"
     ]
    }
   ],
   "source": [
    "def ismonotonic(x):\n",
    "    a,b=[], []\n",
    "    a.extend(x)\n",
    "    b.extend(x)\n",
    "    a.sort()\n",
    "    b.sort(reverse=True)\n",
    "    if (a==x or b==x):\n",
    "        return True\n",
    "    return False\n",
    "\n",
    "x=[14,5,6,6]\n",
    "print(ismonotonic(x))"
   ]
  },
  {
   "cell_type": "code",
   "execution_count": null,
   "id": "1926b2ae",
   "metadata": {},
   "outputs": [],
   "source": []
  }
 ],
 "metadata": {
  "kernelspec": {
   "display_name": "Python 3 (ipykernel)",
   "language": "python",
   "name": "python3"
  },
  "language_info": {
   "codemirror_mode": {
    "name": "ipython",
    "version": 3
   },
   "file_extension": ".py",
   "mimetype": "text/x-python",
   "name": "python",
   "nbconvert_exporter": "python",
   "pygments_lexer": "ipython3",
   "version": "3.9.12"
  }
 },
 "nbformat": 4,
 "nbformat_minor": 5
}
