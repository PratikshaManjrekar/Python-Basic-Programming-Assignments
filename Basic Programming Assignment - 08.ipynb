{
 "cells": [
  {
   "cell_type": "markdown",
   "id": "24e12cff",
   "metadata": {},
   "source": [
    "1. Write a Python Program to Add Two Matrices?"
   ]
  },
  {
   "cell_type": "code",
   "execution_count": 8,
   "id": "57e6007e",
   "metadata": {},
   "outputs": [
    {
     "name": "stdout",
     "output_type": "stream",
     "text": [
      "[13, 5, 7]\n",
      "[38, 6, 11]\n",
      "[14, 16, 18]\n"
     ]
    }
   ],
   "source": [
    "A=[[12,3,4],\n",
    "   [34,1,5],\n",
    "   [7,8,9]]\n",
    "\n",
    "B=[[1,2,3],\n",
    "   [4,5,6],\n",
    "   [7,8,9]]\n",
    "\n",
    "addition=[[0,0,0],\n",
    "          [0,0,0],\n",
    "          [0,0,0]]\n",
    "\n"
   ]
  },
  {
   "cell_type": "markdown",
   "id": "13a6e38d",
   "metadata": {},
   "source": [
    "2. Write a Python Program to Multiply Two Matrices?"
   ]
  },
  {
   "cell_type": "code",
   "execution_count": 16,
   "id": "f13b3ed4",
   "metadata": {},
   "outputs": [
    {
     "name": "stdout",
     "output_type": "stream",
     "text": [
      "[52, 71, 90, 172]\n",
      "[73, 113, 153, 372]\n",
      "[102, 126, 150, 202]\n"
     ]
    }
   ],
   "source": [
    "import numpy as np\n",
    "\n",
    "A=[[12,3,4],\n",
    "   [34,1,5],\n",
    "   [7,8,9]]\n",
    "\n",
    "B=[[1,2,3,10],\n",
    "   [4,5,6,12],\n",
    "   [7,8,9,4]]\n",
    "\n",
    "multiplication=[[0,0,0,0],\n",
    "                [0,0,0,0],\n",
    "                [0,0,0,0]]\n",
    "\n",
    "for i in range(len(A)):\n",
    "    for j in range(len(B[0])):\n",
    "        for k in range (len(B)):\n",
    "            multiplication[i][j] =multiplication[i][j] + (A[i][k]*B[k][j])\n",
    "\n",
    "for m in multiplication:\n",
    "    print(m)"
   ]
  },
  {
   "cell_type": "markdown",
   "id": "907e286d",
   "metadata": {},
   "source": [
    "3. Write a Python Program to Transpose a Matrix?"
   ]
  },
  {
   "cell_type": "code",
   "execution_count": 17,
   "id": "b70268f5",
   "metadata": {},
   "outputs": [
    {
     "name": "stdout",
     "output_type": "stream",
     "text": [
      "[12, 10, 99]\n",
      "[71, 20, 45]\n"
     ]
    }
   ],
   "source": [
    "A=[[12,71],\n",
    "   [10,20],\n",
    "   [99,45]]\n",
    "\n",
    "transpose=[[0,0,0],\n",
    "           [0,0,0]]\n",
    "\n",
    "for i in range(len(A)):\n",
    "    for j in range(len(A[0])):\n",
    "        transpose[j][i]=A[i][j]\n",
    "\n",
    "for t in transpose:\n",
    "    print(t)"
   ]
  },
  {
   "cell_type": "markdown",
   "id": "8f392f8a",
   "metadata": {},
   "source": [
    "4. Write a Python Program to Sort Words in Alphabetic Order?"
   ]
  },
  {
   "cell_type": "code",
   "execution_count": 18,
   "id": "5eeb5f8d",
   "metadata": {},
   "outputs": [
    {
     "name": "stdout",
     "output_type": "stream",
     "text": [
      "Enter a sentence: Hello everyone! My name is Pratiksha Manjrekar\n",
      "Sorted words are: \n",
      "everyone!\n",
      "hello\n",
      "is\n",
      "manjrekar\n",
      "my\n",
      "name\n",
      "pratiksha\n"
     ]
    }
   ],
   "source": [
    "str1=input(\"Enter a sentence: \")\n",
    "words=[i.lower() for i in str1.split()]\n",
    "words.sort()\n",
    "print(\"Sorted words are: \")\n",
    "for i in words:\n",
    "    print(i)"
   ]
  },
  {
   "cell_type": "markdown",
   "id": "b662667e",
   "metadata": {},
   "source": [
    "5. Write a Python Program to Remove Punctuation From a String?"
   ]
  },
  {
   "cell_type": "code",
   "execution_count": 19,
   "id": "5ca44126",
   "metadata": {},
   "outputs": [
    {
     "name": "stdout",
     "output_type": "stream",
     "text": [
      "Enter a string: Hello everyone! My n*ame& ^is@ Pratiksha % Manjrekar,..../\n",
      "Hello everyone My name is Pratiksha  Manjrekar\n"
     ]
    }
   ],
   "source": [
    "punctuation='''!@#$%^&*()_+=-:;\"?/>.<,|\\~`[]{}'''\n",
    "str2=input(\"Enter a string: \")\n",
    "no_punctuation=\"\"\n",
    "for char in str2:\n",
    "    if char not in punctuation:\n",
    "        no_punctuation=no_punctuation+char\n",
    "print(no_punctuation)"
   ]
  },
  {
   "cell_type": "code",
   "execution_count": null,
   "id": "3cad7c97",
   "metadata": {},
   "outputs": [],
   "source": []
  }
 ],
 "metadata": {
  "kernelspec": {
   "display_name": "Python 3 (ipykernel)",
   "language": "python",
   "name": "python3"
  },
  "language_info": {
   "codemirror_mode": {
    "name": "ipython",
    "version": 3
   },
   "file_extension": ".py",
   "mimetype": "text/x-python",
   "name": "python",
   "nbconvert_exporter": "python",
   "pygments_lexer": "ipython3",
   "version": "3.9.12"
  }
 },
 "nbformat": 4,
 "nbformat_minor": 5
}
