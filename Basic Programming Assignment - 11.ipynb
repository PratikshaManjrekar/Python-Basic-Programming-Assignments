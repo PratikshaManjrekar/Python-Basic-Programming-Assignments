{
 "cells": [
  {
   "cell_type": "markdown",
   "id": "44f333e2",
   "metadata": {},
   "source": [
    "1. Write a Python program to find words which are greater than given length k?"
   ]
  },
  {
   "cell_type": "code",
   "execution_count": 2,
   "id": "d19f9795",
   "metadata": {},
   "outputs": [
    {
     "name": "stdout",
     "output_type": "stream",
     "text": [
      "['Hello', 'everyone!', 'Pratiksha', 'Manjrekar']\n"
     ]
    }
   ],
   "source": [
    "str1=\"Hello everyone! This is Pratiksha Manjrekar here\";l=4\n",
    "s=str1.split(\" \")\n",
    "l=list(filter(lambda x: (len(x)>l),s))\n",
    "print(l)"
   ]
  },
  {
   "cell_type": "markdown",
   "id": "2ba21089",
   "metadata": {},
   "source": [
    "2. Write a Python program for removing i-th character from a string?"
   ]
  },
  {
   "cell_type": "code",
   "execution_count": 6,
   "id": "e684f7a2",
   "metadata": {},
   "outputs": [
    {
     "name": "stdout",
     "output_type": "stream",
     "text": [
      "Hello here!\n"
     ]
    }
   ],
   "source": [
    "def remove(s,i):\n",
    "    a=s[:i]\n",
    "    b=s[i+1:]\n",
    "    return a+b\n",
    "\n",
    "\n",
    "s=\"Hello there!\"\n",
    "i=6\n",
    "print(remove(s,i))"
   ]
  },
  {
   "cell_type": "markdown",
   "id": "09f3ad9a",
   "metadata": {},
   "source": [
    "3. Write a Python program to split and join a string?"
   ]
  },
  {
   "cell_type": "code",
   "execution_count": 7,
   "id": "e5ce015a",
   "metadata": {},
   "outputs": [
    {
     "name": "stdout",
     "output_type": "stream",
     "text": [
      "['This', 'is', 'basic', 'python', 'program']\n",
      "This-is-basic-python-program\n"
     ]
    }
   ],
   "source": [
    "str1=\"This is basic python program\"\n",
    "print(str1.split(\" \"))\n",
    "print(\"-\".join(str1.split()))"
   ]
  },
  {
   "cell_type": "markdown",
   "id": "cdb2fbff",
   "metadata": {},
   "source": [
    "4. Write a Python to check if a given string is binary string or not?"
   ]
  },
  {
   "cell_type": "code",
   "execution_count": 8,
   "id": "7e26fa6e",
   "metadata": {},
   "outputs": [
    {
     "name": "stdout",
     "output_type": "stream",
     "text": [
      "Yes\n"
     ]
    }
   ],
   "source": [
    "import re\n",
    "i=\"10101100\"\n",
    "c=re.compile('[^01]')\n",
    "if (len(c.findall(i))):\n",
    "    print(\"No\")\n",
    "else:\n",
    "    print(\"Yes\")"
   ]
  },
  {
   "cell_type": "markdown",
   "id": "91bc2c24",
   "metadata": {},
   "source": [
    "5. Write a Python program to find uncommon words from two Strings?"
   ]
  },
  {
   "cell_type": "code",
   "execution_count": 3,
   "id": "24925217",
   "metadata": {},
   "outputs": [
    {
     "name": "stdout",
     "output_type": "stream",
     "text": [
      "['a', 'python', 'for', 'data', 'science']\n"
     ]
    }
   ],
   "source": [
    "def uc(a,b):\n",
    "    count={}\n",
    "    for i in a.split():\n",
    "        count[i]=count.get(i,0)+1\n",
    "        \n",
    "    for i in b.split():\n",
    "        count[i]=count.get(i,0)+1\n",
    "        \n",
    "    return [i for i in count if count[i]==1] \n",
    "\n",
    "a=\"This is a python program\"\n",
    "b=\"This is program for data science\"\n",
    "print(uc(a,b))"
   ]
  },
  {
   "cell_type": "markdown",
   "id": "065d448c",
   "metadata": {},
   "source": [
    "6. Write a Python to find all duplicate characters in string?"
   ]
  },
  {
   "cell_type": "code",
   "execution_count": 5,
   "id": "f985228a",
   "metadata": {},
   "outputs": [
    {
     "name": "stdout",
     "output_type": "stream",
     "text": [
      "h i s   p t o n r g a d c e\n"
     ]
    }
   ],
   "source": [
    "st=\"This is python program to find duplicate characters in a string\"\n",
    "duplicates=[]\n",
    "for char in st:\n",
    "    if st.count(char)>1:\n",
    "        if char not in duplicates:\n",
    "            duplicates.append(char)\n",
    "print(*duplicates)"
   ]
  },
  {
   "cell_type": "markdown",
   "id": "bf8160fc",
   "metadata": {},
   "source": [
    "7. Write a Python Program to check if a string contains any special character?"
   ]
  },
  {
   "cell_type": "code",
   "execution_count": 15,
   "id": "c37b6788",
   "metadata": {},
   "outputs": [
    {
     "name": "stdout",
     "output_type": "stream",
     "text": [
      "String is not accepted\n"
     ]
    }
   ],
   "source": [
    "s=\"Hello12@#@>:World\"\n",
    "s.split()\n",
    "c=0\n",
    "n='[@_!#$%^&*()<>?/\\|}{~:]'\n",
    "for i in range(len(s)):\n",
    "    if s[i] in n:\n",
    "        c+=1\n",
    "        \n",
    "if c:\n",
    "    print(\"String is not accepted\")\n",
    "else:\n",
    "    print(\"String is accepted\")"
   ]
  },
  {
   "cell_type": "code",
   "execution_count": 16,
   "id": "13483bf3",
   "metadata": {},
   "outputs": [
    {
     "name": "stdout",
     "output_type": "stream",
     "text": [
      "String is accepted\n"
     ]
    }
   ],
   "source": [
    "s=\"Hello World\"\n",
    "s.split()\n",
    "c=0\n",
    "n='[@_!#$%^&*()<>?/\\|}{~:]'\n",
    "for i in range(len(s)):\n",
    "    if s[i] in n:\n",
    "        c+=1\n",
    "        \n",
    "if c:\n",
    "    print(\"String is not accepted\")\n",
    "else:\n",
    "    print(\"String is accepted\")"
   ]
  }
 ],
 "metadata": {
  "kernelspec": {
   "display_name": "Python 3 (ipykernel)",
   "language": "python",
   "name": "python3"
  },
  "language_info": {
   "codemirror_mode": {
    "name": "ipython",
    "version": 3
   },
   "file_extension": ".py",
   "mimetype": "text/x-python",
   "name": "python",
   "nbconvert_exporter": "python",
   "pygments_lexer": "ipython3",
   "version": "3.9.12"
  }
 },
 "nbformat": 4,
 "nbformat_minor": 5
}
