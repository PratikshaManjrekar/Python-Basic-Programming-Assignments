{
 "cells": [
  {
   "cell_type": "markdown",
   "id": "e0b41760",
   "metadata": {},
   "source": [
    "1. Write a Python program to Extract Unique dictionary values?"
   ]
  },
  {
   "cell_type": "code",
   "execution_count": 3,
   "id": "62ff7a7c",
   "metadata": {},
   "outputs": [
    {
     "name": "stdout",
     "output_type": "stream",
     "text": [
      "Original dictionar=  {'A': [1, 2, 3, 4], 'B': [3, 5, 6, 7], 'C': [1, 5, 6, 8], 'D': [10, 20, 3, 4, 55]}\n",
      "Unique values=  [1, 2, 3, 4, 5, 6, 7, 8, 10, 20, 55]\n"
     ]
    }
   ],
   "source": [
    "d={'A':[1,2,3,4],'B':[3,5,6,7],'C':[1,5,6,8],'D':[10,20,3,4,55]}\n",
    "print(\"Original dictionar= \",d)\n",
    "\n",
    "res=list(sorted({i for val in d.values() for i in val}))\n",
    "print(\"Unique values= \",res)"
   ]
  },
  {
   "cell_type": "markdown",
   "id": "b861500c",
   "metadata": {},
   "source": [
    "2. Write a Python program to find the sum of all items in a dictionary?"
   ]
  },
  {
   "cell_type": "code",
   "execution_count": 9,
   "id": "59ecd077",
   "metadata": {},
   "outputs": [
    {
     "name": "stdout",
     "output_type": "stream",
     "text": [
      "Sum= 1600\n"
     ]
    }
   ],
   "source": [
    "def returnSum(d1):\n",
    "    sum=0\n",
    "    for i in d1.values():\n",
    "        sum = sum + i\n",
    "    return sum\n",
    "\n",
    "d1={'A':300,'B':400,'C':900}\n",
    "print(\"Sum=\",returnSum(d1))"
   ]
  },
  {
   "cell_type": "markdown",
   "id": "4001079d",
   "metadata": {},
   "source": [
    "3. Write a Python program to Merging two Dictionaries?"
   ]
  },
  {
   "cell_type": "code",
   "execution_count": 11,
   "id": "43993c3c",
   "metadata": {},
   "outputs": [
    {
     "name": "stdout",
     "output_type": "stream",
     "text": [
      "{'First Name': 'Pratiksha', 'Last Name': 'Manjrekar', 'Age': 21, 'Courses': 'Data Science'}\n"
     ]
    }
   ],
   "source": [
    "dict1={'First Name':\"Pratiksha\", \"Last Name\":\"Manjrekar\"}\n",
    "dict2={\"Age\":21,\"Courses\":\"Data Science\"}\n",
    "print(dict1 | dict2)"
   ]
  },
  {
   "cell_type": "markdown",
   "id": "445e6b03",
   "metadata": {},
   "source": [
    "4. Write a Python program to convert key-values list to flat dictionary?"
   ]
  },
  {
   "cell_type": "code",
   "execution_count": 17,
   "id": "5368cf3f",
   "metadata": {},
   "outputs": [
    {
     "name": "stdout",
     "output_type": "stream",
     "text": [
      "Original dictionary= {'Day': [1, 2, 3], 'Name': ['Monday', 'Tuesday', 'Wednesday']}\n",
      "Flat dictionary= {1: 'Monday', 2: 'Tuesday', 3: 'Wednesday'}\n"
     ]
    }
   ],
   "source": [
    "dict3={'Day':[1,2,3], 'Name':['Monday','Tuesday','Wednesday']}\n",
    "print(\"Original dictionary=\",dict3)\n",
    "x=list(dict3.values())\n",
    "a=x[0]\n",
    "b=x[1]\n",
    "d=dict()\n",
    "for i in range(0,len(a)):\n",
    "    d[a[i]]=b[i]\n",
    "print(\"Flat dictionary=\",d)"
   ]
  },
  {
   "cell_type": "markdown",
   "id": "346066b0",
   "metadata": {},
   "source": [
    "5. Write a Python program to insertion at the beginning in OrderedDict?"
   ]
  },
  {
   "cell_type": "code",
   "execution_count": 19,
   "id": "279fa32c",
   "metadata": {},
   "outputs": [
    {
     "name": "stdout",
     "output_type": "stream",
     "text": [
      "OrderedDict([('Rashi', '3'), ('Pratiksha', '1'), ('Priyanka', '2')])\n"
     ]
    }
   ],
   "source": [
    "from collections import OrderedDict\n",
    "x=OrderedDict([(\"Pratiksha\",'1'),(\"Priyanka\",'2')])\n",
    "x.update({'Rashi':'3'})\n",
    "x.move_to_end('Rashi',last=False)\n",
    "print(x)"
   ]
  },
  {
   "cell_type": "markdown",
   "id": "dc7a8a4b",
   "metadata": {},
   "source": [
    "6. Write a Python program to check order of character in string using OrderedDict()?"
   ]
  },
  {
   "cell_type": "code",
   "execution_count": 20,
   "id": "59429b29",
   "metadata": {},
   "outputs": [
    {
     "name": "stdout",
     "output_type": "stream",
     "text": [
      "False\n"
     ]
    }
   ],
   "source": [
    "def order(input,pattern):\n",
    "    dict=OrderedDict.fromkeys(input)\n",
    "    pattern_length=0\n",
    "    for key,value in dict.items():\n",
    "        if(key==pattern[pattern_length]):\n",
    "            pattern_length=pattern_length+1\n",
    "        if(pattern_length==len(pattern)):\n",
    "            return \"True\"\n",
    "    return \"False\"\n",
    "\n",
    "input=\"Hello Everyone\"\n",
    "pattern=\"le\"\n",
    "print(order(input,pattern))"
   ]
  },
  {
   "cell_type": "code",
   "execution_count": 22,
   "id": "5ad7a449",
   "metadata": {},
   "outputs": [
    {
     "name": "stdout",
     "output_type": "stream",
     "text": [
      "True\n"
     ]
    }
   ],
   "source": [
    "def order(input,pattern):\n",
    "    dict=OrderedDict.fromkeys(input)\n",
    "    pattern_length=0\n",
    "    for key,value in dict.items():\n",
    "        if(key==pattern[pattern_length]):\n",
    "            pattern_length=pattern_length+1\n",
    "        if(pattern_length==len(pattern)):\n",
    "            return \"True\"\n",
    "    return \"False\"\n",
    "\n",
    "input=\"Hello Everyone\"\n",
    "pattern=\"lE\"\n",
    "print(order(input,pattern))"
   ]
  },
  {
   "cell_type": "markdown",
   "id": "c8be4072",
   "metadata": {},
   "source": [
    "7. Write a Python program to sort Python Dictionaries by Key or Value?"
   ]
  },
  {
   "cell_type": "code",
   "execution_count": 24,
   "id": "3002e428",
   "metadata": {},
   "outputs": [
    {
     "name": "stdout",
     "output_type": "stream",
     "text": [
      "OrderedDict([('Kailash', 15), ('Kartik', 10), ('Nisha', 20), ('Prakruti', 14), ('Rajeev', 10)])\n"
     ]
    }
   ],
   "source": [
    "# Sorting a dictionary by keys\n",
    "\n",
    "d={'Nisha':20,'Rajeev':10,'Kailash':15,'Kartik':10,'Prakruti':14}\n",
    "d1=OrderedDict(sorted(d.items()))\n",
    "print(d1)"
   ]
  },
  {
   "cell_type": "code",
   "execution_count": 28,
   "id": "ef4a04a6",
   "metadata": {},
   "outputs": [
    {
     "name": "stdout",
     "output_type": "stream",
     "text": [
      "{'Nisha': 10, 'Rajeev': 10, 'Kailash': 14, 'Kartik': 15, 'Prakruti': 20}\n"
     ]
    }
   ],
   "source": [
    "# Sorting a dictionary by values\n",
    "import numpy as np\n",
    "\n",
    "d={'Nisha':20,'Rajeev':10,'Kailash':15,'Kartik':10,'Prakruti':14}\n",
    "\n",
    "sorted_vindex = np.argsort(d.values())\n",
    "d_keys = list(d.keys())\n",
    "d1 = {d_keys[i]: sorted(\n",
    "    d.values())[i] for i in range(len(d_keys))}\n",
    " \n",
    "print(d1)"
   ]
  },
  {
   "cell_type": "code",
   "execution_count": null,
   "id": "ee3990d0",
   "metadata": {},
   "outputs": [],
   "source": []
  }
 ],
 "metadata": {
  "kernelspec": {
   "display_name": "Python 3 (ipykernel)",
   "language": "python",
   "name": "python3"
  },
  "language_info": {
   "codemirror_mode": {
    "name": "ipython",
    "version": 3
   },
   "file_extension": ".py",
   "mimetype": "text/x-python",
   "name": "python",
   "nbconvert_exporter": "python",
   "pygments_lexer": "ipython3",
   "version": "3.9.12"
  }
 },
 "nbformat": 4,
 "nbformat_minor": 5
}
