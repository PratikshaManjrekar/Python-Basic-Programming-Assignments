{
 "cells": [
  {
   "cell_type": "markdown",
   "id": "c855b53f",
   "metadata": {},
   "source": [
    "1. Write a Python program to convert kilometers to miles?\n",
    "2. Write a Python program to convert Celsius to Fahrenheit?\n",
    "3. Write a Python program to display calendar?\n",
    "4. Write a Python program to solve quadratic equation?\n",
    "5. Write a Python program to swap two variables without temp variable?"
   ]
  },
  {
   "cell_type": "code",
   "execution_count": 6,
   "id": "6556f1f4",
   "metadata": {},
   "outputs": [
    {
     "name": "stdout",
     "output_type": "stream",
     "text": [
      "Enter number of kilometers: 5\n",
      "5.00 km is equal to 3.11 miles\n"
     ]
    }
   ],
   "source": [
    "# Answer 1)\n",
    "km=float(input(\"Enter number of kilometers: \"))\n",
    "conv_fact=0.621371\n",
    "miles=km*conv_fact\n",
    "print(\"%0.2f km is equal to %0.2f miles\"%(km,miles))"
   ]
  },
  {
   "cell_type": "code",
   "execution_count": 12,
   "id": "03d7d974",
   "metadata": {},
   "outputs": [
    {
     "name": "stdout",
     "output_type": "stream",
     "text": [
      "Enter temperature in Celcius: 32\n",
      "32.00C is equal to 89.60F\n"
     ]
    }
   ],
   "source": [
    "# Answer 2)\n",
    "c = float(input(\"Enter temperature in Celcius: \"))\n",
    "print(\"%0.2fC is equal to %0.2fF\"%(c,c*(9/5)+32))"
   ]
  },
  {
   "cell_type": "code",
   "execution_count": 16,
   "id": "79d575ea",
   "metadata": {},
   "outputs": [
    {
     "name": "stdout",
     "output_type": "stream",
     "text": [
      "    October 2022\n",
      "Mo Tu We Th Fr Sa Su\n",
      "                1  2\n",
      " 3  4  5  6  7  8  9\n",
      "10 11 12 13 14 15 16\n",
      "17 18 19 20 21 22 23\n",
      "24 25 26 27 28 29 30\n",
      "31\n",
      "\n"
     ]
    }
   ],
   "source": [
    "# Answer 3)\n",
    "import calendar\n",
    "print(calendar.month(2022,10))"
   ]
  },
  {
   "cell_type": "code",
   "execution_count": 18,
   "id": "a233550b",
   "metadata": {},
   "outputs": [
    {
     "name": "stdout",
     "output_type": "stream",
     "text": [
      "Enter value of a: 1\n",
      "Enter value of b: 5\n",
      "Enter value of c: 6\n",
      "(-3+0j) (-2+0j)\n"
     ]
    }
   ],
   "source": [
    "# Answer 4)\n",
    "import cmath\n",
    "a = int(input(\"Enter value of a: \"))\n",
    "b = int(input(\"Enter value of b: \"))\n",
    "c = int(input(\"Enter value of c: \"))\n",
    "d = (b**2) - (4*a*c)\n",
    "sol1 = (-b-cmath.sqrt(d))/(2*a)\n",
    "sol2 = (-b+cmath.sqrt(d))/(2*a)\n",
    "print(sol1,sol2)\n"
   ]
  },
  {
   "cell_type": "code",
   "execution_count": 19,
   "id": "6b97d306",
   "metadata": {},
   "outputs": [
    {
     "name": "stdout",
     "output_type": "stream",
     "text": [
      "Enter number 1: 22\n",
      "Enter number 2: 1\n",
      "Before:  22 1\n",
      "After:  1 22\n"
     ]
    }
   ],
   "source": [
    "# Answer 5)\n",
    "n1 = int(input(\"Enter number 1: \"))\n",
    "n2 = int(input(\"Enter number 2: \"))\n",
    "print(\"Before: \",n1,n2)\n",
    "n1,n2=n2,n1\n",
    "print(\"After: \",n1,n2)"
   ]
  }
 ],
 "metadata": {
  "kernelspec": {
   "display_name": "Python 3 (ipykernel)",
   "language": "python",
   "name": "python3"
  },
  "language_info": {
   "codemirror_mode": {
    "name": "ipython",
    "version": 3
   },
   "file_extension": ".py",
   "mimetype": "text/x-python",
   "name": "python",
   "nbconvert_exporter": "python",
   "pygments_lexer": "ipython3",
   "version": "3.9.12"
  }
 },
 "nbformat": 4,
 "nbformat_minor": 5
}
